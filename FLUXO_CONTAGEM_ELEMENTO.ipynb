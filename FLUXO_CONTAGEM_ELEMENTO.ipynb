{
 "cells": [
  {
   "cell_type": "code",
   "execution_count": 2,
   "metadata": {},
   "outputs": [],
   "source": [
    "from cv2 import TM_SQDIFF_NORMED, imread, matchTemplate, minMaxLoc, waitKey, imwrite, rectangle, imshow\n",
    "from os.path import join, basename\n",
    "from glob import glob\n",
    "from os import getcwd"
   ]
  },
  {
   "cell_type": "code",
   "execution_count": 3,
   "metadata": {},
   "outputs": [],
   "source": [
    "PASTA_IMG = join(getcwd(), \"IMG\")\n",
    "PASTA_SAMPLES = \"SAMPLES\"\n",
    "IMGS_SAMPLES = glob(join(getcwd(), PASTA_SAMPLES, \"*.png\"))\n",
    "IMGS = glob(join(PASTA_IMG, \"*.jpg\"))"
   ]
  },
  {
   "cell_type": "code",
   "execution_count": 4,
   "metadata": {},
   "outputs": [
    {
     "name": "stdout",
     "output_type": "stream",
     "text": [
      "TOTAL DE PNGS /Users/gregoriohonorato/Documents/PROJETOS/MEUS/RECONHECIMENTO_IMAGEM/IMG 198\n",
      "TOTAL DE SAMPLES 4\n"
     ]
    }
   ],
   "source": [
    "print(f\"TOTAL DE PNGS {PASTA_IMG} {len(IMGS)}\")\n",
    "print(f\"TOTAL DE SAMPLES {len(IMGS_SAMPLES)}\")"
   ]
  },
  {
   "cell_type": "code",
   "execution_count": 5,
   "metadata": {},
   "outputs": [],
   "source": [
    "method = TM_SQDIFF_NORMED\n",
    "load_img = lambda x: imread(x)\n",
    "def count_imgs(x): return minMaxLoc(x)\n",
    "match_imgs = lambda x, y: matchTemplate(x, y, method)\n",
    "\n",
    "def draw_img(img):\n",
    "    _, _, mnLoc, _ = img[\"dtl\"]\n",
    "    \n",
    "    MPx,MPy = mnLoc\n",
    "    trows, tcols = img[\"image\"].shape[:2]\n",
    "    rectangle(img[\"image\"], (MPx,MPy),(MPx+tcols,MPy+trows),(0,0,255),2)\n",
    "    imwrite(join(getcwd(), \"TMP\", basename(img[\"nome\"])), img[\"image\"])\n",
    "\n",
    "\n",
    "SAMPLES = [load_img(img) for img in IMGS_SAMPLES]"
   ]
  },
  {
   "cell_type": "code",
   "execution_count": null,
   "metadata": {},
   "outputs": [],
   "source": [
    "for img in IMGS:\n",
    "    for sample in SAMPLES:\n",
    "        img_byte = load_img(img)\n",
    "        result = match_imgs(sample, img_byte)\n",
    "        count = count_imgs(result)\n",
    "        if len(count[2]) >= 2:\n",
    "            print(f\"OBJETO ENCONTRADO NA IMAGEM {img}\")\n",
    "            draw_img({\"nome\": img, \"dtl\": count, \"sample\": sample, \"image\": img_byte})\n"
   ]
  },
  {
   "cell_type": "code",
   "execution_count": 6,
   "metadata": {},
   "outputs": [
    {
     "data": {
      "text/plain": [
       "32"
      ]
     },
     "execution_count": 6,
     "metadata": {},
     "output_type": "execute_result"
    }
   ],
   "source": [
    "result = match_imgs(SAMPLES[2], load_img(IMGS[-1]))\n",
    "mn,_,mnLoc,_ = count_imgs(result)\n",
    "MPx,MPy = mnLoc\n",
    "\n",
    "trows, tcols = SAMPLES[2].shape[:2]\n",
    "rectangle(load_img(IMGS[-1]), (MPx, MPy), (MPx+tcols, MPy+trows), (0, 0, 255), 2)\n",
    "imshow('output', load_img(IMGS[-1]))\n",
    "waitKey(0)"
   ]
  }
 ],
 "metadata": {
  "interpreter": {
   "hash": "88c2952cc515bf7aac6cb799e71008a002f1d70e65c7e9ff2dd8635abed9e395"
  },
  "kernelspec": {
   "display_name": "Python 3.8.9 64-bit ('venv': venv)",
   "language": "python",
   "name": "python3"
  },
  "language_info": {
   "codemirror_mode": {
    "name": "ipython",
    "version": 3
   },
   "file_extension": ".py",
   "mimetype": "text/x-python",
   "name": "python",
   "nbconvert_exporter": "python",
   "pygments_lexer": "ipython3",
   "version": "3.8.9"
  },
  "orig_nbformat": 4
 },
 "nbformat": 4,
 "nbformat_minor": 2
}
